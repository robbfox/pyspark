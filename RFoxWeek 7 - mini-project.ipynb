{
 "cells": [
  {
   "cell_type": "markdown",
   "metadata": {
    "application/vnd.databricks.v1+cell": {
     "cellMetadata": {
      "byteLimit": 2048000,
      "rowLimit": 10000
     },
     "inputWidgets": {},
     "nuid": "08622fe0-9782-4f9a-adde-1731d1e847e0",
     "showTitle": false,
     "title": ""
    }
   },
   "source": [
    "# TV-Shows data anaytics"
   ]
  },
  {
   "cell_type": "markdown",
   "metadata": {
    "application/vnd.databricks.v1+cell": {
     "cellMetadata": {
      "byteLimit": 2048000,
      "rowLimit": 10000
     },
     "inputWidgets": {},
     "nuid": "712cec59-9f93-4bb5-8665-75dbc2b1d50a",
     "showTitle": false,
     "title": ""
    }
   },
   "source": []
  },
  {
   "cell_type": "code",
   "execution_count": 0,
   "metadata": {
    "application/vnd.databricks.v1+cell": {
     "cellMetadata": {
      "byteLimit": 2048000,
      "rowLimit": 10000
     },
     "inputWidgets": {},
     "nuid": "680c526b-ff3a-479d-92fa-aa05976a317a",
     "showTitle": false,
     "title": ""
    }
   },
   "outputs": [],
   "source": [
    "from pyspark.sql.functions import explode, col, desc"
   ]
  },
  {
   "cell_type": "code",
   "execution_count": 0,
   "metadata": {
    "application/vnd.databricks.v1+cell": {
     "cellMetadata": {
      "byteLimit": 2048000,
      "rowLimit": 10000
     },
     "inputWidgets": {},
     "nuid": "c6da514c-b210-4d56-ab46-a6a6bab8f67f",
     "showTitle": false,
     "title": ""
    }
   },
   "outputs": [
    {
     "output_type": "stream",
     "name": "stdout",
     "output_type": "stream",
     "text": [
      "Out[269]: <pyspark.sql.context.SQLContext at 0x7f1c6916de50>"
     ]
    }
   ],
   "source": [
    "sqlContext"
   ]
  },
  {
   "cell_type": "code",
   "execution_count": 0,
   "metadata": {
    "application/vnd.databricks.v1+cell": {
     "cellMetadata": {
      "byteLimit": 2048000,
      "rowLimit": 10000
     },
     "inputWidgets": {},
     "nuid": "76e3428a-e2c9-4a49-a200-57803e5eefda",
     "showTitle": false,
     "title": ""
    }
   },
   "outputs": [
    {
     "output_type": "stream",
     "name": "stdout",
     "output_type": "stream",
     "text": [
      "Out[270]: [Row(_links=Row(nextepisode=None, previousepisode=Row(href='https://api.tvmaze.com/episodes/1051658'), self=Row(href='https://api.tvmaze.com/shows/250')), averageRuntime=30, dvdCountry=None, ended='2017-02-02', externals=Row(imdb='tt3544772', thetvdb=278449, tvrage=37394), genres=['Comedy'], id=250, image=Row(medium='https://static.tvmaze.com/uploads/images/medium_portrait/1/4600.jpg', original='https://static.tvmaze.com/uploads/images/original_untouched/1/4600.jpg'), language='English', name='Kirby Buckets', network=Row(country=Row(code='US', name='United States', timezone='America/New_York'), id=25, name='Disney XD'), officialSite='http://disneyxd.disney.com/kirby-buckets', premiered='2014-10-20', rating=Row(average=None), runtime=30, schedule=Row(days=['Monday', 'Tuesday', 'Wednesday', 'Thursday', 'Friday'], time='07:00'), status='Ended', summary=\"<p>The single-camera series that mixes live-action and animation stars Jacob Bertrand as the title character. <b>Kirby Buckets</b> introduces viewers to the vivid imagination of charismatic 13-year-old Kirby Buckets, who dreams of becoming a famous animator like his idol, Mac MacCallister. With his two best friends, Fish and Eli, by his side, Kirby navigates his eccentric town of Forest Hills where the trio usually find themselves trying to get out of a predicament before Kirby's sister, Dawn, and her best friend, Belinda, catch them. Along the way, Kirby is joined by his animated characters, each with their own vibrant personality that only he and viewers can see.</p>\", type='Scripted', updated=1617744408, url='https://www.tvmaze.com/shows/250/kirby-buckets', webChannel=Row(country=Row(code='US', name='United States', timezone='America/New_York'), id=83, name='DisneyNOW'), weight=69),\n Row(_links=Row(nextepisode=None, previousepisode=Row(href='https://api.tvmaze.com/episodes/623237'), self=Row(href='https://api.tvmaze.com/shows/251')), averageRuntime=71, dvdCountry=None, ended='2015-12-25', externals=Row(imdb='tt1606375', thetvdb=193131, tvrage=26615), genres=['Drama', 'Family', 'Romance'], id=251, image=Row(medium='https://static.tvmaze.com/uploads/images/medium_portrait/1/4601.jpg', original='https://static.tvmaze.com/uploads/images/original_untouched/1/4601.jpg'), language='English', name='Downton Abbey', network=Row(country=Row(code='GB', name='United Kingdom', timezone='Europe/London'), id=35, name='ITV'), officialSite='http://www.itv.com/downtonabbey', premiered='2010-09-26', rating=Row(average=9.1), runtime=60, schedule=Row(days=['Sunday'], time='21:00'), status='Ended', summary=\"<p>The Downton Abbey estate stands a splendid example of confidence and mettle, its family enduring for generations and its staff a well-oiled machine of propriety. But change is afoot at Downton--change far surpassing the new electric lights and telephone. A crisis of inheritance threatens to displace the resident Crawley family, in spite of the best efforts of the noble and compassionate Earl, Robert Crawley; his American heiress wife, Cora his comically implacable, opinionated mother, Violet and his beautiful, eldest daughter, Mary, intent on charting her own course. Reluctantly, the family is forced to welcome its heir apparent, the self-made and proudly modern Matthew Crawley himself none too happy about the new arrangements. As Matthew's bristly relationship with Mary begins to crackle with electricity, hope for the future of Downton's dynasty takes shape. But when petty jealousies and ambitions grow among the family and the staff, scheming and secrets--both delicious and dangerous--threaten to derail the scramble to preserve Downton Abbey. <i>Downton Abbey</i> offers a spot-on portrait of a vanishing way of life.</p>\", type='Scripted', updated=1627415536, url='https://www.tvmaze.com/shows/251/downton-abbey', webChannel=None, weight=96),\n Row(_links=Row(nextepisode=None, previousepisode=Row(href='https://api.tvmaze.com/episodes/1011244'), self=Row(href='https://api.tvmaze.com/shows/252')), averageRuntime=30, dvdCountry=None, ended='2017-01-20', externals=Row(imdb='tt2543796', thetvdb=267777, tvrage=33436), genres=['Drama', 'Comedy', 'Family'], id=252, image=Row(medium='https://static.tvmaze.com/uploads/images/medium_portrait/316/792450.jpg', original='https://static.tvmaze.com/uploads/images/original_untouched/316/792450.jpg'), language='English', name='Girl Meets World', network=Row(country=Row(code='US', name='United States', timezone='America/New_York'), id=78, name='Disney Channel'), officialSite='http://disneychannel.disney.com/girl-meets-world', premiered='2014-06-27', rating=Row(average=7.7), runtime=30, schedule=Row(days=['Friday'], time='18:00'), status='Ended', summary=\"<p><b>Girl Meets World</b> is based on ABC's hugely popular sitcom, Boy Meets World (1993). Set in New York City, the show tells the wonderfully funny heartfelt stories that Boy Meets World is renowned for - only this time from a tween girl's perspective - as the curious and bright 7th grader Riley Matthews and her quick-witted friend Maya Fox embark on an unforgettable middle school experience. But their plans for a carefree year will be adjusted slightly under the watchful eyes of Riley's parents - dad Cory, who's also a faculty member (and their new History teacher), and mom Topanga, who owns a trendy after school hangout that specializes in pudding.</p>\", type='Scripted', updated=1621082326, url='https://www.tvmaze.com/shows/252/girl-meets-world', webChannel=Row(country=Row(code='US', name='United States', timezone='America/New_York'), id=83, name='DisneyNOW'), weight=72)]"
     ]
    }
   ],
   "source": [
    "file_path = \"/FileStore/tables/tv_shows.json\"\n",
    "data = sqlContext.read.json(file_path)\n",
    "data.take(3)\n"
   ]
  },
  {
   "cell_type": "code",
   "execution_count": 0,
   "metadata": {
    "application/vnd.databricks.v1+cell": {
     "cellMetadata": {
      "byteLimit": 2048000,
      "rowLimit": 10000
     },
     "inputWidgets": {},
     "nuid": "3f17e4de-4816-434a-9ed0-bc650c9131d4",
     "showTitle": false,
     "title": ""
    }
   },
   "outputs": [
    {
     "output_type": "stream",
     "name": "stdout",
     "output_type": "stream",
     "text": [
      "Out[271]: [('_links',\n  'struct<nextepisode:struct<href:string>,previousepisode:struct<href:string>,self:struct<href:string>>'),\n ('averageRuntime', 'bigint'),\n ('dvdCountry', 'struct<code:string,name:string,timezone:string>'),\n ('ended', 'string'),\n ('externals', 'struct<imdb:string,thetvdb:bigint,tvrage:bigint>'),\n ('genres', 'array<string>'),\n ('id', 'bigint'),\n ('image', 'struct<medium:string,original:string>'),\n ('language', 'string'),\n ('name', 'string'),\n ('network',\n  'struct<country:struct<code:string,name:string,timezone:string>,id:bigint,name:string>'),\n ('officialSite', 'string'),\n ('premiered', 'string'),\n ('rating', 'struct<average:double>'),\n ('runtime', 'bigint'),\n ('schedule', 'struct<days:array<string>,time:string>'),\n ('status', 'string'),\n ('summary', 'string'),\n ('type', 'string'),\n ('updated', 'bigint'),\n ('url', 'string'),\n ('webChannel',\n  'struct<country:struct<code:string,name:string,timezone:string>,id:bigint,name:string>'),\n ('weight', 'bigint')]"
     ]
    }
   ],
   "source": [
    "data.dtypes"
   ]
  },
  {
   "cell_type": "code",
   "execution_count": 0,
   "metadata": {
    "application/vnd.databricks.v1+cell": {
     "cellMetadata": {
      "byteLimit": 2048000,
      "rowLimit": 10000
     },
     "inputWidgets": {},
     "nuid": "74288245-fad9-4fcb-a0cf-ee03db5c6860",
     "showTitle": false,
     "title": ""
    }
   },
   "outputs": [
    {
     "output_type": "stream",
     "name": "stdout",
     "output_type": "stream",
     "text": [
      "Out[272]: <bound method DataFrame.printSchema of DataFrame[_links: struct<nextepisode:struct<href:string>,previousepisode:struct<href:string>,self:struct<href:string>>, averageRuntime: bigint, dvdCountry: struct<code:string,name:string,timezone:string>, ended: string, externals: struct<imdb:string,thetvdb:bigint,tvrage:bigint>, genres: array<string>, id: bigint, image: struct<medium:string,original:string>, language: string, name: string, network: struct<country:struct<code:string,name:string,timezone:string>,id:bigint,name:string>, officialSite: string, premiered: string, rating: struct<average:double>, runtime: bigint, schedule: struct<days:array<string>,time:string>, status: string, summary: string, type: string, updated: bigint, url: string, webChannel: struct<country:struct<code:string,name:string,timezone:string>,id:bigint,name:string>, weight: bigint]>"
     ]
    }
   ],
   "source": [
    "data.printSchema"
   ]
  },
  {
   "cell_type": "code",
   "execution_count": 0,
   "metadata": {
    "application/vnd.databricks.v1+cell": {
     "cellMetadata": {
      "byteLimit": 2048000,
      "rowLimit": 10000
     },
     "inputWidgets": {},
     "nuid": "0dd342cf-5672-4712-b3b1-fe332d66a33e",
     "showTitle": false,
     "title": ""
    }
   },
   "outputs": [],
   "source": []
  },
  {
   "cell_type": "code",
   "execution_count": 0,
   "metadata": {
    "application/vnd.databricks.v1+cell": {
     "cellMetadata": {
      "byteLimit": 2048000,
      "rowLimit": 10000
     },
     "inputWidgets": {},
     "nuid": "5fa3e984-ae6c-43c2-b27b-4f09e943e122",
     "showTitle": false,
     "title": ""
    }
   },
   "outputs": [
    {
     "output_type": "display_data",
     "data": {
      "text/html": [
       "<style scoped>\n",
       "  .table-result-container {\n",
       "    max-height: 300px;\n",
       "    overflow: auto;\n",
       "  }\n",
       "  table, th, td {\n",
       "    border: 1px solid black;\n",
       "    border-collapse: collapse;\n",
       "  }\n",
       "  th, td {\n",
       "    padding: 5px;\n",
       "  }\n",
       "  th {\n",
       "    text-align: left;\n",
       "  }\n",
       "</style><div class='table-result-container'><table class='table-result'><thead style='background-color: white'><tr><th>name</th></tr></thead><tbody><tr><td>Kirby Buckets</td></tr><tr><td>Downton Abbey</td></tr><tr><td>Girl Meets World</td></tr><tr><td>Hell's Kitchen</td></tr><tr><td>World Series of Poker</td></tr><tr><td>Anthony Bourdain: Parts Unknown</td></tr><tr><td>Comic Book Men</td></tr><tr><td>Key & Peele</td></tr><tr><td>Glue</td></tr><tr><td>Southern Justice</td></tr></tbody></table></div>"
      ]
     },
     "metadata": {
      "application/vnd.databricks.v1+output": {
       "addedWidgets": {},
       "aggData": [],
       "aggError": "",
       "aggOverflow": false,
       "aggSchema": [],
       "aggSeriesLimitReached": false,
       "aggType": "",
       "arguments": {},
       "columnCustomDisplayInfos": {},
       "data": [
        [
         "Kirby Buckets"
        ],
        [
         "Downton Abbey"
        ],
        [
         "Girl Meets World"
        ],
        [
         "Hell's Kitchen"
        ],
        [
         "World Series of Poker"
        ],
        [
         "Anthony Bourdain: Parts Unknown"
        ],
        [
         "Comic Book Men"
        ],
        [
         "Key & Peele"
        ],
        [
         "Glue"
        ],
        [
         "Southern Justice"
        ]
       ],
       "datasetInfos": [],
       "dbfsResultPath": null,
       "isJsonSchema": true,
       "metadata": {},
       "overflow": false,
       "plotOptions": {
        "customPlotOptions": {},
        "displayType": "table",
        "pivotAggregation": null,
        "pivotColumns": null,
        "xColumns": null,
        "yColumns": null
       },
       "removedWidgets": [],
       "schema": [
        {
         "metadata": "{}",
         "name": "name",
         "type": "\"string\""
        }
       ],
       "type": "table"
      }
     },
     "output_type": "display_data"
    }
   ],
   "source": [
    "display(data.select(\"name\").limit(10))"
   ]
  },
  {
   "cell_type": "markdown",
   "metadata": {
    "application/vnd.databricks.v1+cell": {
     "cellMetadata": {
      "byteLimit": 2048000,
      "rowLimit": 10000
     },
     "inputWidgets": {},
     "nuid": "f0d7c3dd-147f-4639-8f10-e6052e61b414",
     "showTitle": false,
     "title": ""
    }
   },
   "source": [
    "#### Count number of shows in each language"
   ]
  },
  {
   "cell_type": "code",
   "execution_count": 0,
   "metadata": {
    "application/vnd.databricks.v1+cell": {
     "cellMetadata": {
      "byteLimit": 2048000,
      "rowLimit": 10000
     },
     "inputWidgets": {},
     "nuid": "d5e8ce10-3816-45c6-b9f7-78b4e0e1ea00",
     "showTitle": false,
     "title": ""
    }
   },
   "outputs": [
    {
     "output_type": "display_data",
     "data": {
      "text/html": [
       "<style scoped>\n",
       "  .table-result-container {\n",
       "    max-height: 300px;\n",
       "    overflow: auto;\n",
       "  }\n",
       "  table, th, td {\n",
       "    border: 1px solid black;\n",
       "    border-collapse: collapse;\n",
       "  }\n",
       "  th, td {\n",
       "    padding: 5px;\n",
       "  }\n",
       "  th {\n",
       "    text-align: left;\n",
       "  }\n",
       "</style><div class='table-result-container'><table class='table-result'><thead style='background-color: white'><tr><th>language</th><th>count</th></tr></thead><tbody><tr><td>English</td><td>32728</td></tr><tr><td>Japanese</td><td>3998</td></tr><tr><td>Russian</td><td>3986</td></tr><tr><td>Korean</td><td>2457</td></tr><tr><td>Dutch</td><td>1589</td></tr><tr><td>Chinese</td><td>1443</td></tr><tr><td>French</td><td>1288</td></tr></tbody></table></div>"
      ]
     },
     "metadata": {
      "application/vnd.databricks.v1+output": {
       "addedWidgets": {},
       "aggData": [],
       "aggError": "",
       "aggOverflow": false,
       "aggSchema": [],
       "aggSeriesLimitReached": false,
       "aggType": "",
       "arguments": {},
       "columnCustomDisplayInfos": {},
       "data": [
        [
         "English",
         32728
        ],
        [
         "Japanese",
         3998
        ],
        [
         "Russian",
         3986
        ],
        [
         "Korean",
         2457
        ],
        [
         "Dutch",
         1589
        ],
        [
         "Chinese",
         1443
        ],
        [
         "French",
         1288
        ]
       ],
       "datasetInfos": [],
       "dbfsResultPath": null,
       "isJsonSchema": true,
       "metadata": {},
       "overflow": false,
       "plotOptions": {
        "customPlotOptions": {},
        "displayType": "table",
        "pivotAggregation": null,
        "pivotColumns": null,
        "xColumns": null,
        "yColumns": null
       },
       "removedWidgets": [],
       "schema": [
        {
         "metadata": "{}",
         "name": "language",
         "type": "\"string\""
        },
        {
         "metadata": "{}",
         "name": "count",
         "type": "\"long\""
        }
       ],
       "type": "table"
      }
     },
     "output_type": "display_data"
    }
   ],
   "source": [
    "# Filter out rows where 'language' column is not null\n",
    "filtered_data = data.filter(col('language').isNotNull())\n",
    "\n",
    "# Group by 'language' column and count occurrences, then sort in descending order and limit to 7 rows\n",
    "sorted_data = filtered_data.groupBy('language').count().orderBy(desc('count')).limit(7)\n",
    "\n",
    "# Display the sorted and limited data\n",
    "display(sorted_data)"
   ]
  },
  {
   "cell_type": "code",
   "execution_count": 0,
   "metadata": {
    "application/vnd.databricks.v1+cell": {
     "cellMetadata": {
      "byteLimit": 2048000,
      "rowLimit": 10000
     },
     "inputWidgets": {},
     "nuid": "ba578656-7eb4-47c9-aa52-111566ecc474",
     "showTitle": false,
     "title": ""
    }
   },
   "outputs": [],
   "source": []
  },
  {
   "cell_type": "code",
   "execution_count": 0,
   "metadata": {
    "application/vnd.databricks.v1+cell": {
     "cellMetadata": {
      "byteLimit": 2048000,
      "rowLimit": 10000
     },
     "inputWidgets": {},
     "nuid": "204131ce-97a2-4100-a2b3-7c62529840e2",
     "showTitle": false,
     "title": ""
    }
   },
   "outputs": [],
   "source": [
    "data.createOrReplaceTempView(\"tv_shows\")"
   ]
  },
  {
   "cell_type": "code",
   "execution_count": 0,
   "metadata": {
    "application/vnd.databricks.v1+cell": {
     "cellMetadata": {
      "byteLimit": 2048000,
      "rowLimit": 10000
     },
     "inputWidgets": {},
     "nuid": "84137f4b-edbe-40c7-a993-4ed2d8651ae1",
     "showTitle": false,
     "title": ""
    }
   },
   "outputs": [],
   "source": [
    "genres_data = spark.sql(\"\"\"\n",
    "          SELECT DISTINCT genres\n",
    "          FROM tv_shows\n",
    "         \"\"\")"
   ]
  },
  {
   "cell_type": "code",
   "execution_count": 0,
   "metadata": {
    "application/vnd.databricks.v1+cell": {
     "cellMetadata": {
      "byteLimit": 2048000,
      "rowLimit": 10000
     },
     "inputWidgets": {},
     "nuid": "1bd2a226-2b2c-4681-b77e-9fc1b7422b82",
     "showTitle": false,
     "title": ""
    }
   },
   "outputs": [
    {
     "output_type": "stream",
     "name": "stdout",
     "output_type": "stream",
     "text": [
      "+---------------+\n|          genre|\n+---------------+\n|          Crime|\n|        Romance|\n|       Thriller|\n|           Food|\n|      Adventure|\n|          Drama|\n|         Travel|\n|Science-Fiction|\n|         Family|\n|        Fantasy|\n|          Legal|\n|        History|\n|        Mystery|\n|   Supernatural|\n|          Anime|\n|      Espionage|\n|         Horror|\n|        Medical|\n|         Comedy|\n|       Children|\n+---------------+\nonly showing top 20 rows\n\n"
     ]
    }
   ],
   "source": [
    "# Assuming `genres_data` is your DataFrame containing the column of arrays\n",
    "distinct_genres = genres_data.select(explode(\"genres\").alias(\"genre\")).distinct()\n",
    "\n",
    "# Show the distinct genres\n",
    "distinct_genres.show()\n"
   ]
  },
  {
   "cell_type": "code",
   "execution_count": 0,
   "metadata": {
    "application/vnd.databricks.v1+cell": {
     "cellMetadata": {
      "byteLimit": 2048000,
      "rowLimit": 10000
     },
     "inputWidgets": {},
     "nuid": "cfef6375-773b-4d42-8069-672580b33991",
     "showTitle": false,
     "title": ""
    }
   },
   "outputs": [],
   "source": []
  }
 ],
 "metadata": {
  "application/vnd.databricks.v1+notebook": {
   "dashboards": [],
   "language": "python",
   "notebookMetadata": {
    "pythonIndentUnit": 4
   },
   "notebookName": "RFoxWeek 7 - mini-project",
   "widgets": {}
  }
 },
 "nbformat": 4,
 "nbformat_minor": 0
}
