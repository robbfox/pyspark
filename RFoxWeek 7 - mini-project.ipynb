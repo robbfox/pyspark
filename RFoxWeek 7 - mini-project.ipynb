{
 "cells": [
  {
   "cell_type": "markdown",
   "metadata": {
    "application/vnd.databricks.v1+cell": {
     "cellMetadata": {
      "byteLimit": 2048000,
      "rowLimit": 10000
     },
     "inputWidgets": {},
     "nuid": "08622fe0-9782-4f9a-adde-1731d1e847e0",
     "showTitle": false,
     "title": ""
    }
   },
   "source": [
    "# TV-Shows data anaytics"
   ]
  },
  {
   "cell_type": "markdown",
   "metadata": {
    "application/vnd.databricks.v1+cell": {
     "cellMetadata": {},
     "inputWidgets": {},
     "nuid": "7fd8dc2e-111c-4494-8dc5-3059ac960393",
     "showTitle": false,
     "title": ""
    }
   },
   "source": [
    "#### This notebook explores a dataset of TV-Shows, using pyspark. The information gained could be of value to a market-researcher, content-creator or TV enthusiast. The data is imported in JSON format, as a Spark Dataframe. Some visualisations have been created using Seaborn by converting the data to a Pandas Dataframe."
   ]
  },
  {
   "cell_type": "code",
   "execution_count": 0,
   "metadata": {
    "application/vnd.databricks.v1+cell": {
     "cellMetadata": {
      "byteLimit": 2048000,
      "rowLimit": 10000
     },
     "inputWidgets": {},
     "nuid": "712cec59-9f93-4bb5-8665-75dbc2b1d50a",
     "showTitle": false,
     "title": ""
    }
   },
   "outputs": [
    {
     "output_type": "stream",
     "name": "stdout",
     "output_type": "stream",
     "text": [
      "Requirement already satisfied: pip in /local_disk0/.ephemeral_nfs/envs/pythonEnv-1451ef95-cc38-41ea-aa25-21939bf0be1f/lib/python3.9/site-packages (24.0)\r\nRequirement already satisfied: seaborn in /databricks/python3/lib/python3.9/site-packages (0.11.2)\r\nRequirement already satisfied: numpy>=1.15 in /databricks/python3/lib/python3.9/site-packages (from seaborn) (1.21.5)\r\nRequirement already satisfied: scipy>=1.0 in /databricks/python3/lib/python3.9/site-packages (from seaborn) (1.7.3)\r\nRequirement already satisfied: pandas>=0.23 in /databricks/python3/lib/python3.9/site-packages (from seaborn) (1.4.2)\r\nRequirement already satisfied: matplotlib>=2.2 in /databricks/python3/lib/python3.9/site-packages (from seaborn) (3.5.1)\r\nRequirement already satisfied: cycler>=0.10 in /databricks/python3/lib/python3.9/site-packages (from matplotlib>=2.2->seaborn) (0.11.0)\r\nRequirement already satisfied: fonttools>=4.22.0 in /databricks/python3/lib/python3.9/site-packages (from matplotlib>=2.2->seaborn) (4.25.0)\r\nRequirement already satisfied: kiwisolver>=1.0.1 in /databricks/python3/lib/python3.9/site-packages (from matplotlib>=2.2->seaborn) (1.3.2)\r\nRequirement already satisfied: packaging>=20.0 in /databricks/python3/lib/python3.9/site-packages (from matplotlib>=2.2->seaborn) (21.3)\r\nRequirement already satisfied: pillow>=6.2.0 in /databricks/python3/lib/python3.9/site-packages (from matplotlib>=2.2->seaborn) (9.0.1)\r\nRequirement already satisfied: pyparsing>=2.2.1 in /databricks/python3/lib/python3.9/site-packages (from matplotlib>=2.2->seaborn) (3.0.4)\r\nRequirement already satisfied: python-dateutil>=2.7 in /databricks/python3/lib/python3.9/site-packages (from matplotlib>=2.2->seaborn) (2.8.2)\r\nRequirement already satisfied: pytz>=2020.1 in /databricks/python3/lib/python3.9/site-packages (from pandas>=0.23->seaborn) (2021.3)\r\nRequirement already satisfied: six>=1.5 in /databricks/python3/lib/python3.9/site-packages (from python-dateutil>=2.7->matplotlib>=2.2->seaborn) (1.16.0)\r\n"
     ]
    }
   ],
   "source": [
    "!python -m pip install --upgrade pip\n",
    "!pip install seaborn"
   ]
  },
  {
   "cell_type": "code",
   "execution_count": 0,
   "metadata": {
    "application/vnd.databricks.v1+cell": {
     "cellMetadata": {
      "byteLimit": 2048000,
      "rowLimit": 10000
     },
     "inputWidgets": {},
     "nuid": "680c526b-ff3a-479d-92fa-aa05976a317a",
     "showTitle": false,
     "title": ""
    }
   },
   "outputs": [],
   "source": [
    "from pyspark.sql.functions import explode, col, desc\n",
    "import json\n",
    "import seaborn as sns\n",
    "import matplotlib as plt\n",
    "import pandas as pd"
   ]
  },
  {
   "cell_type": "code",
   "execution_count": 0,
   "metadata": {
    "application/vnd.databricks.v1+cell": {
     "cellMetadata": {
      "byteLimit": 2048000,
      "rowLimit": 10000
     },
     "inputWidgets": {},
     "nuid": "c6da514c-b210-4d56-ab46-a6a6bab8f67f",
     "showTitle": false,
     "title": ""
    }
   },
   "outputs": [
    {
     "output_type": "stream",
     "name": "stdout",
     "output_type": "stream",
     "text": [
      "Out[149]: <pyspark.sql.context.SQLContext at 0x7fa5a41e3070>"
     ]
    }
   ],
   "source": [
    "sqlContext"
   ]
  },
  {
   "cell_type": "code",
   "execution_count": 0,
   "metadata": {
    "application/vnd.databricks.v1+cell": {
     "cellMetadata": {
      "byteLimit": 2048000,
      "rowLimit": 10000
     },
     "inputWidgets": {},
     "nuid": "76e3428a-e2c9-4a49-a200-57803e5eefda",
     "showTitle": false,
     "title": ""
    }
   },
   "outputs": [
    {
     "output_type": "stream",
     "name": "stdout",
     "output_type": "stream",
     "text": [
      "Out[150]: [Row(_links=Row(nextepisode=None, previousepisode=Row(href='https://api.tvmaze.com/episodes/1051658'), self=Row(href='https://api.tvmaze.com/shows/250')), averageRuntime=30, dvdCountry=None, ended='2017-02-02', externals=Row(imdb='tt3544772', thetvdb=278449, tvrage=37394), genres=['Comedy'], id=250, image=Row(medium='https://static.tvmaze.com/uploads/images/medium_portrait/1/4600.jpg', original='https://static.tvmaze.com/uploads/images/original_untouched/1/4600.jpg'), language='English', name='Kirby Buckets', network=Row(country=Row(code='US', name='United States', timezone='America/New_York'), id=25, name='Disney XD'), officialSite='http://disneyxd.disney.com/kirby-buckets', premiered='2014-10-20', rating=Row(average=None), runtime=30, schedule=Row(days=['Monday', 'Tuesday', 'Wednesday', 'Thursday', 'Friday'], time='07:00'), status='Ended', summary=\"<p>The single-camera series that mixes live-action and animation stars Jacob Bertrand as the title character. <b>Kirby Buckets</b> introduces viewers to the vivid imagination of charismatic 13-year-old Kirby Buckets, who dreams of becoming a famous animator like his idol, Mac MacCallister. With his two best friends, Fish and Eli, by his side, Kirby navigates his eccentric town of Forest Hills where the trio usually find themselves trying to get out of a predicament before Kirby's sister, Dawn, and her best friend, Belinda, catch them. Along the way, Kirby is joined by his animated characters, each with their own vibrant personality that only he and viewers can see.</p>\", type='Scripted', updated=1617744408, url='https://www.tvmaze.com/shows/250/kirby-buckets', webChannel=Row(country=Row(code='US', name='United States', timezone='America/New_York'), id=83, name='DisneyNOW'), weight=69),\n Row(_links=Row(nextepisode=None, previousepisode=Row(href='https://api.tvmaze.com/episodes/623237'), self=Row(href='https://api.tvmaze.com/shows/251')), averageRuntime=71, dvdCountry=None, ended='2015-12-25', externals=Row(imdb='tt1606375', thetvdb=193131, tvrage=26615), genres=['Drama', 'Family', 'Romance'], id=251, image=Row(medium='https://static.tvmaze.com/uploads/images/medium_portrait/1/4601.jpg', original='https://static.tvmaze.com/uploads/images/original_untouched/1/4601.jpg'), language='English', name='Downton Abbey', network=Row(country=Row(code='GB', name='United Kingdom', timezone='Europe/London'), id=35, name='ITV'), officialSite='http://www.itv.com/downtonabbey', premiered='2010-09-26', rating=Row(average=9.1), runtime=60, schedule=Row(days=['Sunday'], time='21:00'), status='Ended', summary=\"<p>The Downton Abbey estate stands a splendid example of confidence and mettle, its family enduring for generations and its staff a well-oiled machine of propriety. But change is afoot at Downton--change far surpassing the new electric lights and telephone. A crisis of inheritance threatens to displace the resident Crawley family, in spite of the best efforts of the noble and compassionate Earl, Robert Crawley; his American heiress wife, Cora his comically implacable, opinionated mother, Violet and his beautiful, eldest daughter, Mary, intent on charting her own course. Reluctantly, the family is forced to welcome its heir apparent, the self-made and proudly modern Matthew Crawley himself none too happy about the new arrangements. As Matthew's bristly relationship with Mary begins to crackle with electricity, hope for the future of Downton's dynasty takes shape. But when petty jealousies and ambitions grow among the family and the staff, scheming and secrets--both delicious and dangerous--threaten to derail the scramble to preserve Downton Abbey. <i>Downton Abbey</i> offers a spot-on portrait of a vanishing way of life.</p>\", type='Scripted', updated=1627415536, url='https://www.tvmaze.com/shows/251/downton-abbey', webChannel=None, weight=96),\n Row(_links=Row(nextepisode=None, previousepisode=Row(href='https://api.tvmaze.com/episodes/1011244'), self=Row(href='https://api.tvmaze.com/shows/252')), averageRuntime=30, dvdCountry=None, ended='2017-01-20', externals=Row(imdb='tt2543796', thetvdb=267777, tvrage=33436), genres=['Drama', 'Comedy', 'Family'], id=252, image=Row(medium='https://static.tvmaze.com/uploads/images/medium_portrait/316/792450.jpg', original='https://static.tvmaze.com/uploads/images/original_untouched/316/792450.jpg'), language='English', name='Girl Meets World', network=Row(country=Row(code='US', name='United States', timezone='America/New_York'), id=78, name='Disney Channel'), officialSite='http://disneychannel.disney.com/girl-meets-world', premiered='2014-06-27', rating=Row(average=7.7), runtime=30, schedule=Row(days=['Friday'], time='18:00'), status='Ended', summary=\"<p><b>Girl Meets World</b> is based on ABC's hugely popular sitcom, Boy Meets World (1993). Set in New York City, the show tells the wonderfully funny heartfelt stories that Boy Meets World is renowned for - only this time from a tween girl's perspective - as the curious and bright 7th grader Riley Matthews and her quick-witted friend Maya Fox embark on an unforgettable middle school experience. But their plans for a carefree year will be adjusted slightly under the watchful eyes of Riley's parents - dad Cory, who's also a faculty member (and their new History teacher), and mom Topanga, who owns a trendy after school hangout that specializes in pudding.</p>\", type='Scripted', updated=1621082326, url='https://www.tvmaze.com/shows/252/girl-meets-world', webChannel=Row(country=Row(code='US', name='United States', timezone='America/New_York'), id=83, name='DisneyNOW'), weight=72)]"
     ]
    }
   ],
   "source": [
    "file_path = \"/FileStore/tables/tv_shows.json\"\n",
    "data = sqlContext.read.json(file_path)\n",
    "data.take(3)"
   ]
  },
  {
   "cell_type": "markdown",
   "metadata": {
    "application/vnd.databricks.v1+cell": {
     "cellMetadata": {
      "byteLimit": 2048000,
      "rowLimit": 10000
     },
     "inputWidgets": {},
     "nuid": "b0b28e67-bf4c-408f-bdfe-02a0a98d36bb",
     "showTitle": false,
     "title": ""
    }
   },
   "source": [
    "#### Return number of rows"
   ]
  },
  {
   "cell_type": "code",
   "execution_count": 0,
   "metadata": {
    "application/vnd.databricks.v1+cell": {
     "cellMetadata": {
      "byteLimit": 2048000,
      "rowLimit": 10000
     },
     "inputWidgets": {},
     "nuid": "deaf8ae3-5a49-41ce-827e-6aadd2c321b3",
     "showTitle": false,
     "title": ""
    }
   },
   "outputs": [
    {
     "output_type": "stream",
     "name": "stdout",
     "output_type": "stream",
     "text": [
      "Out[151]: 55362"
     ]
    }
   ],
   "source": [
    "data.count()"
   ]
  },
  {
   "cell_type": "markdown",
   "metadata": {
    "application/vnd.databricks.v1+cell": {
     "cellMetadata": {
      "byteLimit": 2048000,
      "rowLimit": 10000
     },
     "inputWidgets": {},
     "nuid": "597484ce-a1ef-41ff-9f6b-d0ad9a3343e4",
     "showTitle": false,
     "title": ""
    }
   },
   "source": [
    "#### Remove duplicate rows, and return row count"
   ]
  },
  {
   "cell_type": "code",
   "execution_count": 0,
   "metadata": {
    "application/vnd.databricks.v1+cell": {
     "cellMetadata": {
      "byteLimit": 2048000,
      "rowLimit": 10000
     },
     "inputWidgets": {},
     "nuid": "0f931320-c90d-438c-8764-c56e0d4a305a",
     "showTitle": false,
     "title": ""
    }
   },
   "outputs": [
    {
     "output_type": "stream",
     "name": "stdout",
     "output_type": "stream",
     "text": [
      "Out[152]: 55362"
     ]
    }
   ],
   "source": [
    "data.dropDuplicates()\n",
    "data.count()"
   ]
  },
  {
   "cell_type": "markdown",
   "metadata": {
    "application/vnd.databricks.v1+cell": {
     "cellMetadata": {
      "byteLimit": 2048000,
      "rowLimit": 10000
     },
     "inputWidgets": {},
     "nuid": "83650fe7-643c-4f57-9645-c016898a9449",
     "showTitle": false,
     "title": ""
    }
   },
   "source": [
    "#### View column datatypes"
   ]
  },
  {
   "cell_type": "code",
   "execution_count": 0,
   "metadata": {
    "application/vnd.databricks.v1+cell": {
     "cellMetadata": {
      "byteLimit": 2048000,
      "rowLimit": 10000
     },
     "inputWidgets": {},
     "nuid": "3f17e4de-4816-434a-9ed0-bc650c9131d4",
     "showTitle": false,
     "title": ""
    }
   },
   "outputs": [
    {
     "output_type": "stream",
     "name": "stdout",
     "output_type": "stream",
     "text": [
      "Out[153]: [('_links',\n  'struct<nextepisode:struct<href:string>,previousepisode:struct<href:string>,self:struct<href:string>>'),\n ('averageRuntime', 'bigint'),\n ('dvdCountry', 'struct<code:string,name:string,timezone:string>'),\n ('ended', 'string'),\n ('externals', 'struct<imdb:string,thetvdb:bigint,tvrage:bigint>'),\n ('genres', 'array<string>'),\n ('id', 'bigint'),\n ('image', 'struct<medium:string,original:string>'),\n ('language', 'string'),\n ('name', 'string'),\n ('network',\n  'struct<country:struct<code:string,name:string,timezone:string>,id:bigint,name:string>'),\n ('officialSite', 'string'),\n ('premiered', 'string'),\n ('rating', 'struct<average:double>'),\n ('runtime', 'bigint'),\n ('schedule', 'struct<days:array<string>,time:string>'),\n ('status', 'string'),\n ('summary', 'string'),\n ('type', 'string'),\n ('updated', 'bigint'),\n ('url', 'string'),\n ('webChannel',\n  'struct<country:struct<code:string,name:string,timezone:string>,id:bigint,name:string>'),\n ('weight', 'bigint')]"
     ]
    }
   ],
   "source": [
    "data.dtypes"
   ]
  },
  {
   "cell_type": "markdown",
   "metadata": {
    "application/vnd.databricks.v1+cell": {
     "cellMetadata": {
      "byteLimit": 2048000,
      "rowLimit": 10000
     },
     "inputWidgets": {},
     "nuid": "9edff233-2368-4bf8-9725-3afb418f4f0a",
     "showTitle": false,
     "title": ""
    }
   },
   "source": [
    "#### View schema info"
   ]
  },
  {
   "cell_type": "code",
   "execution_count": 0,
   "metadata": {
    "application/vnd.databricks.v1+cell": {
     "cellMetadata": {
      "byteLimit": 2048000,
      "rowLimit": 10000
     },
     "inputWidgets": {},
     "nuid": "74288245-fad9-4fcb-a0cf-ee03db5c6860",
     "showTitle": false,
     "title": ""
    }
   },
   "outputs": [
    {
     "output_type": "stream",
     "name": "stdout",
     "output_type": "stream",
     "text": [
      "Out[154]: <bound method DataFrame.printSchema of DataFrame[_links: struct<nextepisode:struct<href:string>,previousepisode:struct<href:string>,self:struct<href:string>>, averageRuntime: bigint, dvdCountry: struct<code:string,name:string,timezone:string>, ended: string, externals: struct<imdb:string,thetvdb:bigint,tvrage:bigint>, genres: array<string>, id: bigint, image: struct<medium:string,original:string>, language: string, name: string, network: struct<country:struct<code:string,name:string,timezone:string>,id:bigint,name:string>, officialSite: string, premiered: string, rating: struct<average:double>, runtime: bigint, schedule: struct<days:array<string>,time:string>, status: string, summary: string, type: string, updated: bigint, url: string, webChannel: struct<country:struct<code:string,name:string,timezone:string>,id:bigint,name:string>, weight: bigint]>"
     ]
    }
   ],
   "source": [
    "data.printSchema"
   ]
  },
  {
   "cell_type": "code",
   "execution_count": 0,
   "metadata": {
    "application/vnd.databricks.v1+cell": {
     "cellMetadata": {
      "byteLimit": 2048000,
      "rowLimit": 10000
     },
     "inputWidgets": {},
     "nuid": "0dd342cf-5672-4712-b3b1-fe332d66a33e",
     "showTitle": false,
     "title": ""
    }
   },
   "outputs": [],
   "source": []
  },
  {
   "cell_type": "markdown",
   "metadata": {
    "application/vnd.databricks.v1+cell": {
     "cellMetadata": {
      "byteLimit": 2048000,
      "rowLimit": 10000
     },
     "inputWidgets": {},
     "nuid": "08a912fd-e480-4439-b9bf-05193b22016f",
     "showTitle": false,
     "title": ""
    }
   },
   "source": [
    "#### View a selection of title names"
   ]
  },
  {
   "cell_type": "code",
   "execution_count": 0,
   "metadata": {
    "application/vnd.databricks.v1+cell": {
     "cellMetadata": {
      "byteLimit": 2048000,
      "rowLimit": 10000
     },
     "inputWidgets": {},
     "nuid": "5fa3e984-ae6c-43c2-b27b-4f09e943e122",
     "showTitle": false,
     "title": ""
    }
   },
   "outputs": [
    {
     "output_type": "display_data",
     "data": {
      "text/html": [
       "<style scoped>\n",
       "  .table-result-container {\n",
       "    max-height: 300px;\n",
       "    overflow: auto;\n",
       "  }\n",
       "  table, th, td {\n",
       "    border: 1px solid black;\n",
       "    border-collapse: collapse;\n",
       "  }\n",
       "  th, td {\n",
       "    padding: 5px;\n",
       "  }\n",
       "  th {\n",
       "    text-align: left;\n",
       "  }\n",
       "</style><div class='table-result-container'><table class='table-result'><thead style='background-color: white'><tr><th>name</th></tr></thead><tbody><tr><td>Kirby Buckets</td></tr><tr><td>Downton Abbey</td></tr><tr><td>Girl Meets World</td></tr><tr><td>Hell's Kitchen</td></tr><tr><td>World Series of Poker</td></tr><tr><td>Anthony Bourdain: Parts Unknown</td></tr><tr><td>Comic Book Men</td></tr><tr><td>Key & Peele</td></tr><tr><td>Glue</td></tr><tr><td>Southern Justice</td></tr></tbody></table></div>"
      ]
     },
     "metadata": {
      "application/vnd.databricks.v1+output": {
       "addedWidgets": {},
       "aggData": [],
       "aggError": "",
       "aggOverflow": false,
       "aggSchema": [],
       "aggSeriesLimitReached": false,
       "aggType": "",
       "arguments": {},
       "columnCustomDisplayInfos": {},
       "data": [
        [
         "Kirby Buckets"
        ],
        [
         "Downton Abbey"
        ],
        [
         "Girl Meets World"
        ],
        [
         "Hell's Kitchen"
        ],
        [
         "World Series of Poker"
        ],
        [
         "Anthony Bourdain: Parts Unknown"
        ],
        [
         "Comic Book Men"
        ],
        [
         "Key & Peele"
        ],
        [
         "Glue"
        ],
        [
         "Southern Justice"
        ]
       ],
       "datasetInfos": [],
       "dbfsResultPath": null,
       "isJsonSchema": true,
       "metadata": {},
       "overflow": false,
       "plotOptions": {
        "customPlotOptions": {},
        "displayType": "table",
        "pivotAggregation": null,
        "pivotColumns": null,
        "xColumns": null,
        "yColumns": null
       },
       "removedWidgets": [],
       "schema": [
        {
         "metadata": "{}",
         "name": "name",
         "type": "\"string\""
        }
       ],
       "type": "table"
      }
     },
     "output_type": "display_data"
    },
    {
     "output_type": "stream",
     "name": "stdout",
     "output_type": "stream",
     "text": [
      "55362"
     ]
    }
   ],
   "source": [
    "display(data.select(\"name\").limit(10))\n",
    "display(data.select(\"name\").count())"
   ]
  },
  {
   "cell_type": "markdown",
   "metadata": {
    "application/vnd.databricks.v1+cell": {
     "cellMetadata": {
      "byteLimit": 2048000,
      "rowLimit": 10000
     },
     "inputWidgets": {},
     "nuid": "f0d7c3dd-147f-4639-8f10-e6052e61b414",
     "showTitle": false,
     "title": ""
    }
   },
   "source": [
    "#### Count number of shows in each language"
   ]
  },
  {
   "cell_type": "code",
   "execution_count": 0,
   "metadata": {
    "application/vnd.databricks.v1+cell": {
     "cellMetadata": {
      "byteLimit": 2048000,
      "rowLimit": 10000
     },
     "inputWidgets": {},
     "nuid": "d5e8ce10-3816-45c6-b9f7-78b4e0e1ea00",
     "showTitle": false,
     "title": ""
    }
   },
   "outputs": [
    {
     "output_type": "display_data",
     "data": {
      "text/html": [
       "<style scoped>\n",
       "  .table-result-container {\n",
       "    max-height: 300px;\n",
       "    overflow: auto;\n",
       "  }\n",
       "  table, th, td {\n",
       "    border: 1px solid black;\n",
       "    border-collapse: collapse;\n",
       "  }\n",
       "  th, td {\n",
       "    padding: 5px;\n",
       "  }\n",
       "  th {\n",
       "    text-align: left;\n",
       "  }\n",
       "</style><div class='table-result-container'><table class='table-result'><thead style='background-color: white'><tr><th>language</th><th>count</th></tr></thead><tbody><tr><td>English</td><td>32728</td></tr><tr><td>Japanese</td><td>3998</td></tr><tr><td>Russian</td><td>3986</td></tr><tr><td>Korean</td><td>2457</td></tr><tr><td>Dutch</td><td>1589</td></tr><tr><td>Chinese</td><td>1443</td></tr><tr><td>French</td><td>1288</td></tr></tbody></table></div>"
      ]
     },
     "metadata": {
      "application/vnd.databricks.v1+output": {
       "addedWidgets": {},
       "aggData": [],
       "aggError": "",
       "aggOverflow": false,
       "aggSchema": [],
       "aggSeriesLimitReached": false,
       "aggType": "",
       "arguments": {},
       "columnCustomDisplayInfos": {},
       "data": [
        [
         "English",
         32728
        ],
        [
         "Japanese",
         3998
        ],
        [
         "Russian",
         3986
        ],
        [
         "Korean",
         2457
        ],
        [
         "Dutch",
         1589
        ],
        [
         "Chinese",
         1443
        ],
        [
         "French",
         1288
        ]
       ],
       "datasetInfos": [],
       "dbfsResultPath": null,
       "isJsonSchema": true,
       "metadata": {},
       "overflow": false,
       "plotOptions": {
        "customPlotOptions": {},
        "displayType": "table",
        "pivotAggregation": null,
        "pivotColumns": null,
        "xColumns": null,
        "yColumns": null
       },
       "removedWidgets": [],
       "schema": [
        {
         "metadata": "{}",
         "name": "language",
         "type": "\"string\""
        },
        {
         "metadata": "{}",
         "name": "count",
         "type": "\"long\""
        }
       ],
       "type": "table"
      }
     },
     "output_type": "display_data"
    }
   ],
   "source": [
    "# Filter out rows where 'language' column is not null\n",
    "filtered_data = data.filter(col('language').isNotNull())\n",
    "\n",
    "# Group by 'language' column and count occurrences, then sort in descending order and limit to 7 rows\n",
    "sorted_data = filtered_data.groupBy('language').count().orderBy(desc('count')).limit(7)\n",
    "\n",
    "# Display the sorted and limited data\n",
    "display(sorted_data)"
   ]
  },
  {
   "cell_type": "code",
   "execution_count": 0,
   "metadata": {
    "application/vnd.databricks.v1+cell": {
     "cellMetadata": {
      "byteLimit": 2048000,
      "rowLimit": 10000
     },
     "inputWidgets": {},
     "nuid": "ba578656-7eb4-47c9-aa52-111566ecc474",
     "showTitle": false,
     "title": ""
    }
   },
   "outputs": [],
   "source": []
  },
  {
   "cell_type": "code",
   "execution_count": 0,
   "metadata": {
    "application/vnd.databricks.v1+cell": {
     "cellMetadata": {
      "byteLimit": 2048000,
      "rowLimit": 10000
     },
     "inputWidgets": {},
     "nuid": "204131ce-97a2-4100-a2b3-7c62529840e2",
     "showTitle": false,
     "title": ""
    }
   },
   "outputs": [],
   "source": [
    "data.createOrReplaceTempView(\"tv_shows\")"
   ]
  },
  {
   "cell_type": "code",
   "execution_count": 0,
   "metadata": {
    "application/vnd.databricks.v1+cell": {
     "cellMetadata": {
      "byteLimit": 2048000,
      "rowLimit": 10000
     },
     "inputWidgets": {},
     "nuid": "84137f4b-edbe-40c7-a993-4ed2d8651ae1",
     "showTitle": false,
     "title": ""
    }
   },
   "outputs": [],
   "source": [
    "genres_data = spark.sql(\"\"\"\n",
    "          SELECT DISTINCT genres\n",
    "          FROM tv_shows\n",
    "         \"\"\")"
   ]
  },
  {
   "cell_type": "code",
   "execution_count": 0,
   "metadata": {
    "application/vnd.databricks.v1+cell": {
     "cellMetadata": {
      "byteLimit": 2048000,
      "rowLimit": 10000
     },
     "inputWidgets": {},
     "nuid": "1bd2a226-2b2c-4681-b77e-9fc1b7422b82",
     "showTitle": false,
     "title": ""
    }
   },
   "outputs": [
    {
     "output_type": "stream",
     "name": "stdout",
     "output_type": "stream",
     "text": [
      "+---------------+\n|          genre|\n+---------------+\n|          Crime|\n|        Romance|\n|       Thriller|\n|           Food|\n|      Adventure|\n|          Drama|\n|         Travel|\n|Science-Fiction|\n|         Family|\n|        Fantasy|\n|          Legal|\n|        History|\n|        Mystery|\n|   Supernatural|\n|          Anime|\n|      Espionage|\n|         Horror|\n|        Medical|\n|         Comedy|\n|       Children|\n+---------------+\nonly showing top 20 rows\n\n"
     ]
    }
   ],
   "source": [
    "# Assuming `genres_data` is your DataFrame containing the column of arrays\n",
    "distinct_genres = genres_data.select(explode(\"genres\").alias(\"genre\")).distinct()\n",
    "\n",
    "# Show the distinct genres\n",
    "distinct_genres.show()\n"
   ]
  },
  {
   "cell_type": "code",
   "execution_count": 0,
   "metadata": {
    "application/vnd.databricks.v1+cell": {
     "cellMetadata": {
      "byteLimit": 2048000,
      "rowLimit": 10000
     },
     "inputWidgets": {},
     "nuid": "cfef6375-773b-4d42-8069-672580b33991",
     "showTitle": false,
     "title": ""
    }
   },
   "outputs": [],
   "source": []
  },
  {
   "cell_type": "markdown",
   "metadata": {
    "application/vnd.databricks.v1+cell": {
     "cellMetadata": {},
     "inputWidgets": {},
     "nuid": "f89b306a-b767-4bb5-9138-66a5ecdd855d",
     "showTitle": false,
     "title": ""
    }
   },
   "source": [
    "#### View count by show-type"
   ]
  },
  {
   "cell_type": "code",
   "execution_count": 0,
   "metadata": {
    "application/vnd.databricks.v1+cell": {
     "cellMetadata": {
      "byteLimit": 2048000,
      "rowLimit": 10000
     },
     "inputWidgets": {},
     "nuid": "8a3ca079-c1db-4eec-8b9c-40f15b602491",
     "showTitle": false,
     "title": ""
    }
   },
   "outputs": [
    {
     "output_type": "display_data",
     "data": {
      "text/html": [
       "<style scoped>\n",
       "  .table-result-container {\n",
       "    max-height: 300px;\n",
       "    overflow: auto;\n",
       "  }\n",
       "  table, th, td {\n",
       "    border: 1px solid black;\n",
       "    border-collapse: collapse;\n",
       "  }\n",
       "  th, td {\n",
       "    padding: 5px;\n",
       "  }\n",
       "  th {\n",
       "    text-align: left;\n",
       "  }\n",
       "</style><div class='table-result-container'><table class='table-result'><thead style='background-color: white'><tr><th>type</th><th>count</th></tr></thead><tbody><tr><td>Panel Show</td><td>168</td></tr><tr><td>Sports</td><td>702</td></tr><tr><td>Documentary</td><td>10042</td></tr><tr><td>Game Show</td><td>1298</td></tr><tr><td>Award Show</td><td>147</td></tr><tr><td>Reality</td><td>8778</td></tr><tr><td>Animation</td><td>5810</td></tr><tr><td>Variety</td><td>1950</td></tr><tr><td>Scripted</td><td>24193</td></tr><tr><td>Talk Show</td><td>1582</td></tr><tr><td>News</td><td>692</td></tr></tbody></table></div>"
      ]
     },
     "metadata": {
      "application/vnd.databricks.v1+output": {
       "addedWidgets": {},
       "aggData": [],
       "aggError": "",
       "aggOverflow": false,
       "aggSchema": [],
       "aggSeriesLimitReached": false,
       "aggType": "",
       "arguments": {},
       "columnCustomDisplayInfos": {},
       "data": [
        [
         "Panel Show",
         168
        ],
        [
         "Sports",
         702
        ],
        [
         "Documentary",
         10042
        ],
        [
         "Game Show",
         1298
        ],
        [
         "Award Show",
         147
        ],
        [
         "Reality",
         8778
        ],
        [
         "Animation",
         5810
        ],
        [
         "Variety",
         1950
        ],
        [
         "Scripted",
         24193
        ],
        [
         "Talk Show",
         1582
        ],
        [
         "News",
         692
        ]
       ],
       "datasetInfos": [],
       "dbfsResultPath": null,
       "isJsonSchema": true,
       "metadata": {},
       "overflow": false,
       "plotOptions": {
        "customPlotOptions": {},
        "displayType": "table",
        "pivotAggregation": null,
        "pivotColumns": null,
        "xColumns": null,
        "yColumns": null
       },
       "removedWidgets": [],
       "schema": [
        {
         "metadata": "{}",
         "name": "type",
         "type": "\"string\""
        },
        {
         "metadata": "{}",
         "name": "count",
         "type": "\"long\""
        }
       ],
       "type": "table"
      }
     },
     "output_type": "display_data"
    },
    {
     "output_type": "stream",
     "name": "stdout",
     "output_type": "stream",
     "text": [
      "Out[160]: <AxesSubplot:xlabel='count', ylabel='type'>"
     ]
    },
    {
     "output_type": "display_data",
     "data": {
      "image/png": "[encoded data removed]"
     },
     "metadata": {
      "application/vnd.databricks.v1+output": {
       "addedWidgets": {},
       "arguments": {},
       "data": "data:image/png;base64,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\n",
       "datasetInfos": [],
       "metadata": {},
       "removedWidgets": [],
       "type": "image"
      }
     },
     "output_type": "display_data"
    }
   ],
   "source": [
    "type_data = data.groupby('type').count()\n",
    "display(type_data)\n",
    "types_pandas = type_data.toPandas()\n",
    "sns.set_style(\"whitegrid\")\n",
    "sns.barplot(data=types_pandas, x='count', y='type')"
   ]
  },
  {
   "cell_type": "code",
   "execution_count": 0,
   "metadata": {
    "application/vnd.databricks.v1+cell": {
     "cellMetadata": {
      "byteLimit": 2048000,
      "rowLimit": 10000
     },
     "inputWidgets": {},
     "nuid": "376dc5c5-3a5f-415e-abf4-bbc2c718aac5",
     "showTitle": false,
     "title": ""
    }
   },
   "outputs": [
    {
     "output_type": "display_data",
     "data": {
      "text/html": [
       "<style scoped>\n",
       "  .table-result-container {\n",
       "    max-height: 300px;\n",
       "    overflow: auto;\n",
       "  }\n",
       "  table, th, td {\n",
       "    border: 1px solid black;\n",
       "    border-collapse: collapse;\n",
       "  }\n",
       "  th, td {\n",
       "    padding: 5px;\n",
       "  }\n",
       "  th {\n",
       "    text-align: left;\n",
       "  }\n",
       "</style><div class='table-result-container'><table class='table-result'><thead style='background-color: white'><tr><th>averageRuntime</th><th>count</th></tr></thead><tbody><tr><td>29</td><td>180</td></tr><tr><td>26</td><td>215</td></tr><tr><td>65</td><td>648</td></tr><tr><td>191</td><td>3</td></tr><tr><td>222</td><td>2</td></tr><tr><td>270</td><td>1</td></tr><tr><td>54</td><td>235</td></tr><tr><td>19</td><td>66</td></tr><tr><td>113</td><td>15</td></tr><tr><td>112</td><td>12</td></tr><tr><td>155</td><td>3</td></tr><tr><td>167</td><td>2</td></tr><tr><td>22</td><td>300</td></tr><tr><td>198</td><td>5</td></tr><tr><td>130</td><td>62</td></tr><tr><td>77</td><td>21</td></tr><tr><td>7</td><td>158</td></tr><tr><td>34</td><td>95</td></tr><tr><td>184</td><td>3</td></tr><tr><td>188</td><td>6</td></tr><tr><td>126</td><td>9</td></tr><tr><td>274</td><td>1</td></tr><tr><td>262</td><td>1</td></tr><tr><td>50</td><td>1516</td></tr><tr><td>94</td><td>17</td></tr><tr><td>149</td><td>7</td></tr><tr><td>110</td><td>69</td></tr><tr><td>190</td><td>8</td></tr><tr><td>275</td><td>1</td></tr><tr><td>57</td><td>112</td></tr><tr><td>136</td><td>6</td></tr><tr><td>144</td><td>7</td></tr><tr><td>32</td><td>133</td></tr><tr><td>43</td><td>245</td></tr><tr><td>84</td><td>16</td></tr><tr><td>212</td><td>1</td></tr><tr><td>31</td><td>184</td></tr><tr><td>119</td><td>18</td></tr><tr><td>450</td><td>1</td></tr><tr><td>39</td><td>69</td></tr><tr><td>98</td><td>17</td></tr><tr><td>187</td><td>2</td></tr><tr><td>201</td><td>4</td></tr><tr><td>232</td><td>1</td></tr><tr><td>203</td><td>5</td></tr><tr><td>116</td><td>6</td></tr><tr><td>145</td><td>3</td></tr><tr><td>25</td><td>2460</td></tr><tr><td>157</td><td>2</td></tr><tr><td>181</td><td>7</td></tr><tr><td>124</td><td>10</td></tr><tr><td>95</td><td>55</td></tr><tr><td>null</td><td>3549</td></tr><tr><td>71</td><td>21</td></tr><tr><td>143</td><td>6</td></tr><tr><td>193</td><td>1</td></tr><tr><td>161</td><td>3</td></tr><tr><td>68</td><td>77</td></tr><tr><td>6</td><td>168</td></tr><tr><td>87</td><td>20</td></tr><tr><td>72</td><td>33</td></tr><tr><td>215</td><td>4</td></tr><tr><td>58</td><td>125</td></tr><tr><td>255</td><td>4</td></tr><tr><td>107</td><td>7</td></tr><tr><td>266</td><td>1</td></tr><tr><td>9</td><td>90</td></tr><tr><td>63</td><td>118</td></tr><tr><td>27</td><td>144</td></tr><tr><td>158</td><td>1</td></tr><tr><td>56</td><td>101</td></tr><tr><td>51</td><td>202</td></tr><tr><td>178</td><td>6</td></tr><tr><td>234</td><td>1</td></tr><tr><td>150</td><td>93</td></tr><tr><td>52</td><td>349</td></tr><tr><td>146</td><td>3</td></tr><tr><td>174</td><td>1</td></tr><tr><td>17</td><td>76</td></tr><tr><td>79</td><td>16</td></tr><tr><td>170</td><td>4</td></tr><tr><td>103</td><td>18</td></tr><tr><td>236</td><td>1</td></tr><tr><td>139</td><td>6</td></tr><tr><td>41</td><td>95</td></tr><tr><td>33</td><td>116</td></tr><tr><td>88</td><td>19</td></tr><tr><td>28</td><td>171</td></tr><tr><td>208</td><td>3</td></tr><tr><td>138</td><td>2</td></tr><tr><td>207</td><td>1</td></tr><tr><td>235</td><td>2</td></tr><tr><td>114</td><td>9</td></tr><tr><td>5</td><td>578</td></tr><tr><td>1</td><td>55</td></tr><tr><td>115</td><td>22</td></tr><tr><td>153</td><td>2</td></tr><tr><td>96</td><td>11</td></tr><tr><td>185</td><td>4</td></tr><tr><td>104</td><td>8</td></tr><tr><td>219</td><td>1</td></tr><tr><td>214</td><td>1</td></tr><tr><td>252</td><td>2</td></tr><tr><td>10</td><td>589</td></tr><tr><td>120</td><td>935</td></tr><tr><td>485</td><td>1</td></tr><tr><td>89</td><td>26</td></tr><tr><td>128</td><td>3</td></tr><tr><td>85</td><td>64</td></tr><tr><td>111</td><td>6</td></tr><tr><td>106</td><td>7</td></tr><tr><td>177</td><td>5</td></tr><tr><td>179</td><td>3</td></tr><tr><td>67</td><td>57</td></tr><tr><td>48</td><td>322</td></tr><tr><td>142</td><td>3</td></tr><tr><td>168</td><td>3</td></tr><tr><td>324</td><td>1</td></tr><tr><td>100</td><td>123</td></tr><tr><td>105</td><td>41</td></tr><tr><td>131</td><td>4</td></tr><tr><td>108</td><td>10</td></tr><tr><td>218</td><td>1</td></tr><tr><td>44</td><td>273</td></tr><tr><td>132</td><td>3</td></tr><tr><td>540</td><td>1</td></tr><tr><td>123</td><td>8</td></tr><tr><td>127</td><td>2</td></tr><tr><td>210</td><td>24</td></tr><tr><td>249</td><td>1</td></tr><tr><td>220</td><td>1</td></tr><tr><td>61</td><td>252</td></tr><tr><td>213</td><td>2</td></tr><tr><td>440</td><td>1</td></tr><tr><td>156</td><td>4</td></tr><tr><td>429</td><td>1</td></tr><tr><td>160</td><td>5</td></tr><tr><td>3</td><td>184</td></tr><tr><td>37</td><td>62</td></tr><tr><td>101</td><td>10</td></tr><tr><td>292</td><td>1</td></tr><tr><td>83</td><td>22</td></tr><tr><td>12</td><td>216</td></tr><tr><td>200</td><td>10</td></tr><tr><td>141</td><td>2</td></tr><tr><td>55</td><td>610</td></tr><tr><td>74</td><td>13</td></tr><tr><td>62</td><td>159</td></tr><tr><td>8</td><td>175</td></tr><tr><td>182</td><td>3</td></tr><tr><td>186</td><td>4</td></tr><tr><td>171</td><td>1</td></tr><tr><td>49</td><td>237</td></tr><tr><td>11</td><td>218</td></tr><tr><td>35</td><td>416</td></tr><tr><td>507</td><td>1</td></tr><tr><td>260</td><td>1</td></tr><tr><td>80</td><td>192</td></tr><tr><td>199</td><td>3</td></tr><tr><td>2</td><td>102</td></tr><tr><td>66</td><td>57</td></tr><tr><td>265</td><td>1</td></tr><tr><td>154</td><td>2</td></tr><tr><td>162</td><td>7</td></tr><tr><td>164</td><td>2</td></tr><tr><td>360</td><td>3</td></tr><tr><td>495</td><td>1</td></tr><tr><td>134</td><td>2</td></tr><tr><td>76</td><td>16</td></tr><tr><td>102</td><td>10</td></tr><tr><td>175</td><td>2</td></tr><tr><td>233</td><td>1</td></tr><tr><td>4</td><td>127</td></tr><tr><td>92</td><td>11</td></tr><tr><td>163</td><td>2</td></tr><tr><td>230</td><td>2</td></tr><tr><td>118</td><td>13</td></tr><tr><td>13</td><td>162</td></tr><tr><td>272</td><td>1</td></tr><tr><td>36</td><td>74</td></tr><tr><td>75</td><td>237</td></tr><tr><td>172</td><td>2</td></tr><tr><td>78</td><td>23</td></tr><tr><td>18</td><td>66</td></tr><tr><td>140</td><td>36</td></tr><tr><td>125</td><td>20</td></tr><tr><td>69</td><td>48</td></tr><tr><td>14</td><td>108</td></tr><tr><td>137</td><td>2</td></tr><tr><td>173</td><td>1</td></tr><tr><td>194</td><td>1</td></tr><tr><td>21</td><td>103</td></tr><tr><td>135</td><td>23</td></tr><tr><td>59</td><td>180</td></tr><tr><td>122</td><td>8</td></tr><tr><td>129</td><td>3</td></tr><tr><td>313</td><td>1</td></tr><tr><td>15</td><td>824</td></tr><tr><td>81</td><td>14</td></tr><tr><td>165</td><td>2</td></tr><tr><td>180</td><td>106</td></tr><tr><td>195</td><td>9</td></tr><tr><td>38</td><td>88</td></tr><tr><td>82</td><td>13</td></tr><tr><td>97</td><td>11</td></tr><tr><td>133</td><td>3</td></tr><tr><td>30</td><td>11537</td></tr><tr><td>73</td><td>53</td></tr><tr><td>42</td><td>147</td></tr><tr><td>151</td><td>1</td></tr><tr><td>90</td><td>974</td></tr><tr><td>256</td><td>1</td></tr><tr><td>23</td><td>202</td></tr><tr><td>117</td><td>8</td></tr><tr><td>121</td><td>10</td></tr><tr><td>46</td><td>439</td></tr><tr><td>217</td><td>1</td></tr><tr><td>70</td><td>477</td></tr><tr><td>20</td><td>478</td></tr><tr><td>300</td><td>8</td></tr><tr><td>99</td><td>9</td></tr><tr><td>86</td><td>8</td></tr><tr><td>109</td><td>5</td></tr><tr><td>60</td><td>15492</td></tr><tr><td>93</td><td>15</td></tr><tr><td>40</td><td>546</td></tr><tr><td>204</td><td>1</td></tr><tr><td>251</td><td>1</td></tr><tr><td>147</td><td>5</td></tr><tr><td>183</td><td>4</td></tr><tr><td>240</td><td>20</td></tr><tr><td>263</td><td>1</td></tr><tr><td>64</td><td>71</td></tr><tr><td>16</td><td>89</td></tr><tr><td>336</td><td>1</td></tr><tr><td>91</td><td>29</td></tr><tr><td>152</td><td>3</td></tr><tr><td>45</td><td>2692</td></tr><tr><td>53</td><td>155</td></tr><tr><td>47</td><td>321</td></tr><tr><td>148</td><td>2</td></tr><tr><td>169</td><td>1</td></tr><tr><td>24</td><td>327</td></tr></tbody></table></div>"
      ]
     },
     "metadata": {
      "application/vnd.databricks.v1+output": {
       "addedWidgets": {},
       "aggData": [],
       "aggError": "",
       "aggOverflow": false,
       "aggSchema": [],
       "aggSeriesLimitReached": false,
       "aggType": "",
       "arguments": {},
       "columnCustomDisplayInfos": {},
       "data": [
        [
         29,
         180
        ],
        [
         26,
         215
        ],
        [
         65,
         648
        ],
        [
         191,
         3
        ],
        [
         222,
         2
        ],
        [
         270,
         1
        ],
        [
         54,
         235
        ],
        [
         19,
         66
        ],
        [
         113,
         15
        ],
        [
         112,
         12
        ],
        [
         155,
         3
        ],
        [
         167,
         2
        ],
        [
         22,
         300
        ],
        [
         198,
         5
        ],
        [
         130,
         62
        ],
        [
         77,
         21
        ],
        [
         7,
         158
        ],
        [
         34,
         95
        ],
        [
         184,
         3
        ],
        [
         188,
         6
        ],
        [
         126,
         9
        ],
        [
         274,
         1
        ],
        [
         262,
         1
        ],
        [
         50,
         1516
        ],
        [
         94,
         17
        ],
        [
         149,
         7
        ],
        [
         110,
         69
        ],
        [
         190,
         8
        ],
        [
         275,
         1
        ],
        [
         57,
         112
        ],
        [
         136,
         6
        ],
        [
         144,
         7
        ],
        [
         32,
         133
        ],
        [
         43,
         245
        ],
        [
         84,
         16
        ],
        [
         212,
         1
        ],
        [
         31,
         184
        ],
        [
         119,
         18
        ],
        [
         450,
         1
        ],
        [
         39,
         69
        ],
        [
         98,
         17
        ],
        [
         187,
         2
        ],
        [
         201,
         4
        ],
        [
         232,
         1
        ],
        [
         203,
         5
        ],
        [
         116,
         6
        ],
        [
         145,
         3
        ],
        [
         25,
         2460
        ],
        [
         157,
         2
        ],
        [
         181,
         7
        ],
        [
         124,
         10
        ],
        [
         95,
         55
        ],
        [
         null,
         3549
        ],
        [
         71,
         21
        ],
        [
         143,
         6
        ],
        [
         193,
         1
        ],
        [
         161,
         3
        ],
        [
         68,
         77
        ],
        [
         6,
         168
        ],
        [
         87,
         20
        ],
        [
         72,
         33
        ],
        [
         215,
         4
        ],
        [
         58,
         125
        ],
        [
         255,
         4
        ],
        [
         107,
         7
        ],
        [
         266,
         1
        ],
        [
         9,
         90
        ],
        [
         63,
         118
        ],
        [
         27,
         144
        ],
        [
         158,
         1
        ],
        [
         56,
         101
        ],
        [
         51,
         202
        ],
        [
         178,
         6
        ],
        [
         234,
         1
        ],
        [
         150,
         93
        ],
        [
         52,
         349
        ],
        [
         146,
         3
        ],
        [
         174,
         1
        ],
        [
         17,
         76
        ],
        [
         79,
         16
        ],
        [
         170,
         4
        ],
        [
         103,
         18
        ],
        [
         236,
         1
        ],
        [
         139,
         6
        ],
        [
         41,
         95
        ],
        [
         33,
         116
        ],
        [
         88,
         19
        ],
        [
         28,
         171
        ],
        [
         208,
         3
        ],
        [
         138,
         2
        ],
        [
         207,
         1
        ],
        [
         235,
         2
        ],
        [
         114,
         9
        ],
        [
         5,
         578
        ],
        [
         1,
         55
        ],
        [
         115,
         22
        ],
        [
         153,
         2
        ],
        [
         96,
         11
        ],
        [
         185,
         4
        ],
        [
         104,
         8
        ],
        [
         219,
         1
        ],
        [
         214,
         1
        ],
        [
         252,
         2
        ],
        [
         10,
         589
        ],
        [
         120,
         935
        ],
        [
         485,
         1
        ],
        [
         89,
         26
        ],
        [
         128,
         3
        ],
        [
         85,
         64
        ],
        [
         111,
         6
        ],
        [
         106,
         7
        ],
        [
         177,
         5
        ],
        [
         179,
         3
        ],
        [
         67,
         57
        ],
        [
         48,
         322
        ],
        [
         142,
         3
        ],
        [
         168,
         3
        ],
        [
         324,
         1
        ],
        [
         100,
         123
        ],
        [
         105,
         41
        ],
        [
         131,
         4
        ],
        [
         108,
         10
        ],
        [
         218,
         1
        ],
        [
         44,
         273
        ],
        [
         132,
         3
        ],
        [
         540,
         1
        ],
        [
         123,
         8
        ],
        [
         127,
         2
        ],
        [
         210,
         24
        ],
        [
         249,
         1
        ],
        [
         220,
         1
        ],
        [
         61,
         252
        ],
        [
         213,
         2
        ],
        [
         440,
         1
        ],
        [
         156,
         4
        ],
        [
         429,
         1
        ],
        [
         160,
         5
        ],
        [
         3,
         184
        ],
        [
         37,
         62
        ],
        [
         101,
         10
        ],
        [
         292,
         1
        ],
        [
         83,
         22
        ],
        [
         12,
         216
        ],
        [
         200,
         10
        ],
        [
         141,
         2
        ],
        [
         55,
         610
        ],
        [
         74,
         13
        ],
        [
         62,
         159
        ],
        [
         8,
         175
        ],
        [
         182,
         3
        ],
        [
         186,
         4
        ],
        [
         171,
         1
        ],
        [
         49,
         237
        ],
        [
         11,
         218
        ],
        [
         35,
         416
        ],
        [
         507,
         1
        ],
        [
         260,
         1
        ],
        [
         80,
         192
        ],
        [
         199,
         3
        ],
        [
         2,
         102
        ],
        [
         66,
         57
        ],
        [
         265,
         1
        ],
        [
         154,
         2
        ],
        [
         162,
         7
        ],
        [
         164,
         2
        ],
        [
         360,
         3
        ],
        [
         495,
         1
        ],
        [
         134,
         2
        ],
        [
         76,
         16
        ],
        [
         102,
         10
        ],
        [
         175,
         2
        ],
        [
         233,
         1
        ],
        [
         4,
         127
        ],
        [
         92,
         11
        ],
        [
         163,
         2
        ],
        [
         230,
         2
        ],
        [
         118,
         13
        ],
        [
         13,
         162
        ],
        [
         272,
         1
        ],
        [
         36,
         74
        ],
        [
         75,
         237
        ],
        [
         172,
         2
        ],
        [
         78,
         23
        ],
        [
         18,
         66
        ],
        [
         140,
         36
        ],
        [
         125,
         20
        ],
        [
         69,
         48
        ],
        [
         14,
         108
        ],
        [
         137,
         2
        ],
        [
         173,
         1
        ],
        [
         194,
         1
        ],
        [
         21,
         103
        ],
        [
         135,
         23
        ],
        [
         59,
         180
        ],
        [
         122,
         8
        ],
        [
         129,
         3
        ],
        [
         313,
         1
        ],
        [
         15,
         824
        ],
        [
         81,
         14
        ],
        [
         165,
         2
        ],
        [
         180,
         106
        ],
        [
         195,
         9
        ],
        [
         38,
         88
        ],
        [
         82,
         13
        ],
        [
         97,
         11
        ],
        [
         133,
         3
        ],
        [
         30,
         11537
        ],
        [
         73,
         53
        ],
        [
         42,
         147
        ],
        [
         151,
         1
        ],
        [
         90,
         974
        ],
        [
         256,
         1
        ],
        [
         23,
         202
        ],
        [
         117,
         8
        ],
        [
         121,
         10
        ],
        [
         46,
         439
        ],
        [
         217,
         1
        ],
        [
         70,
         477
        ],
        [
         20,
         478
        ],
        [
         300,
         8
        ],
        [
         99,
         9
        ],
        [
         86,
         8
        ],
        [
         109,
         5
        ],
        [
         60,
         15492
        ],
        [
         93,
         15
        ],
        [
         40,
         546
        ],
        [
         204,
         1
        ],
        [
         251,
         1
        ],
        [
         147,
         5
        ],
        [
         183,
         4
        ],
        [
         240,
         20
        ],
        [
         263,
         1
        ],
        [
         64,
         71
        ],
        [
         16,
         89
        ],
        [
         336,
         1
        ],
        [
         91,
         29
        ],
        [
         152,
         3
        ],
        [
         45,
         2692
        ],
        [
         53,
         155
        ],
        [
         47,
         321
        ],
        [
         148,
         2
        ],
        [
         169,
         1
        ],
        [
         24,
         327
        ]
       ],
       "datasetInfos": [],
       "dbfsResultPath": null,
       "isJsonSchema": true,
       "metadata": {},
       "overflow": false,
       "plotOptions": {
        "customPlotOptions": {},
        "displayType": "table",
        "pivotAggregation": null,
        "pivotColumns": null,
        "xColumns": null,
        "yColumns": null
       },
       "removedWidgets": [],
       "schema": [
        {
         "metadata": "{}",
         "name": "averageRuntime",
         "type": "\"long\""
        },
        {
         "metadata": "{}",
         "name": "count",
         "type": "\"long\""
        }
       ],
       "type": "table"
      }
     },
     "output_type": "display_data"
    },
    {
     "output_type": "stream",
     "name": "stdout",
     "output_type": "stream",
     "text": [
      "Out[161]: <seaborn.axisgrid.FacetGrid at 0x7fa547b6d9a0>"
     ]
    },
    {
     "output_type": "display_data",
     "data": {
      "image/png": "[encoded data removed]"
     },
     "metadata": {
      "application/vnd.databricks.v1+output": {
       "addedWidgets": {},
       "arguments": {},
       "data": "data:image/png;base64,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\n",
       "datasetInfos": [],
       "metadata": {},
       "removedWidgets": [],
       "type": "image"
      }
     },
     "output_type": "display_data"
    }
   ],
   "source": [
    "x_data = data.groupby('averageRuntime').count()\n",
    "display(x_data)\n",
    "\n",
    "pandas_df = x_data.toPandas()\n",
    "sns.displot(data=pandas_df, kind=\"kde\", x='averageRuntime')\n"
   ]
  }
 ],
 "metadata": {
  "application/vnd.databricks.v1+notebook": {
   "dashboards": [],
   "language": "python",
   "notebookMetadata": {
    "pythonIndentUnit": 4
   },
   "notebookName": "RFoxWeek 7 - mini-project",
   "widgets": {}
  }
 },
 "nbformat": 4,
 "nbformat_minor": 0
}
